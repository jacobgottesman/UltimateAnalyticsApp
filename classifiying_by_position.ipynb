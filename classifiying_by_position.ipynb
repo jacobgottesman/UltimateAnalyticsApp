{
 "cells": [
  {
   "cell_type": "code",
   "execution_count": 1,
   "metadata": {},
   "outputs": [],
   "source": [
    "import pandas as pd\n",
    "import numpy as np\n",
    "from sklearn.model_selection import train_test_split, GridSearchCV\n",
    "from sklearn.ensemble import RandomForestClassifier\n",
    "from sklearn.preprocessing import StandardScaler, MinMaxScaler\n",
    "import matplotlib.pyplot as plt\n",
    "from sklearn.linear_model import LogisticRegression\n",
    "from sklearn.model_selection import LeaveOneOut\n",
    "from sklearn.metrics import classification_report, confusion_matrix, accuracy_score\n",
    "import seaborn as sns\n",
    "import plotly.graph_objects as go\n",
    "from plotly.subplots import make_subplots  # Corrected import statement\n"
   ]
  },
  {
   "cell_type": "code",
   "execution_count": 2,
   "metadata": {},
   "outputs": [],
   "source": [
    "# read in dataframe\n",
    "df = pd.read_csv('player_career_per_game_stats_positions_aug_24.csv')"
   ]
  },
  {
   "cell_type": "code",
   "execution_count": 3,
   "metadata": {},
   "outputs": [],
   "source": [
    "# create some calculated metrics\n",
    "\n",
    "df['total minutes'] = df['minutesPlayed']*df['gamesPlayed']\n",
    "\n",
    "df['offense percentage'] = df['oPointsPlayed']/ (df['pointsPlayed'])\n",
    "\n",
    "df['goal assist ratio'] = df['goals'] / df['scores']\n",
    "\n",
    "df['completions per minute'] = df['completions'] / df['minutesPlayed']\n",
    "\n",
    "df = df[df['total minutes'] >= 100]"
   ]
  },
  {
   "cell_type": "code",
   "execution_count": 4,
   "metadata": {},
   "outputs": [
    {
     "name": "stderr",
     "output_type": "stream",
     "text": [
      "C:\\Users\\jacob\\AppData\\Local\\Temp\\ipykernel_39228\\1954113605.py:3: SettingWithCopyWarning: \n",
      "A value is trying to be set on a copy of a slice from a DataFrame\n",
      "\n",
      "See the caveats in the documentation: https://pandas.pydata.org/pandas-docs/stable/user_guide/indexing.html#returning-a-view-versus-a-copy\n",
      "  data.dropna(subset = 'goal assist ratio', inplace = True)\n",
      "C:\\Users\\jacob\\AppData\\Local\\Temp\\ipykernel_39228\\1954113605.py:4: SettingWithCopyWarning: \n",
      "A value is trying to be set on a copy of a slice from a DataFrame\n",
      "\n",
      "See the caveats in the documentation: https://pandas.pydata.org/pandas-docs/stable/user_guide/indexing.html#returning-a-view-versus-a-copy\n",
      "  data.dropna(subset = 'completionPercentage', inplace = True)\n"
     ]
    }
   ],
   "source": [
    "# get dataset for modeling\n",
    "data = df.dropna(subset = 'position')\n",
    "data.dropna(subset = 'goal assist ratio', inplace = True)\n",
    "data.dropna(subset = 'completionPercentage', inplace = True)"
   ]
  },
  {
   "cell_type": "code",
   "execution_count": 5,
   "metadata": {},
   "outputs": [
    {
     "name": "stdout",
     "output_type": "stream",
     "text": [
      "Best Hyperparameters: {'max_depth': 10, 'min_samples_leaf': 1, 'min_samples_split': 10, 'n_estimators': 100}\n",
      "Classification Report:\n",
      "               precision    recall  f1-score   support\n",
      "\n",
      "      Cutter       0.66      0.70      0.68        30\n",
      "    Defender       0.53      0.45      0.49        22\n",
      "     Handler       0.58      0.88      0.70        24\n",
      "      Hybrid       0.40      0.19      0.26        21\n",
      "\n",
      "    accuracy                           0.58        97\n",
      "   macro avg       0.54      0.56      0.53        97\n",
      "weighted avg       0.55      0.58      0.55        97\n",
      "\n",
      "Confusion Matrix:\n",
      " [[21  5  0  4]\n",
      " [ 7 10  5  0]\n",
      " [ 0  1 21  2]\n",
      " [ 4  3 10  4]]\n"
     ]
    }
   ],
   "source": [
    "scaler = StandardScaler()\n",
    "\n",
    "# Split the data into features and target\n",
    "X = data.drop(['Unnamed: 0', 'playerID', 'name', 'position', 'yardsTotal', 'yardsThrown', 'completionPercentage',\n",
    "              'yardsReceived', 'hucksCompleted', 'huckPercentage', 'oEfficiency', 'height', 'weight'], axis=1)\n",
    "X = scaler.fit_transform(X)\n",
    "\n",
    "y = data['position']\n",
    "\n",
    "# Split the data into train and test sets\n",
    "X_train, X_test, y_train, y_test = train_test_split(X, y, test_size=0.2, random_state=42)\n",
    "\n",
    "# Create a Random Forest classifier\n",
    "rf_classifier = RandomForestClassifier(random_state=987)\n",
    "\n",
    "# pipeline = make_pipeline(StandardScaler(), rf_classifier)\n",
    "\n",
    "# Define the hyperparameter grid\n",
    "param_grid = {\n",
    "    'n_estimators': [100, 200, 300],\n",
    "    'max_depth': [None, 10, 20, 30],\n",
    "    'min_samples_split': [2, 5, 10],\n",
    "    'min_samples_leaf': [1, 2, 4]\n",
    "}\n",
    "\n",
    "# Create the GridSearchCV object\n",
    "grid_search = GridSearchCV(estimator=rf_classifier, param_grid=param_grid, cv=5, scoring='f1_weighted')\n",
    "\n",
    "# Fit the grid search to the data\n",
    "grid_search.fit(X_train, y_train)\n",
    "\n",
    "# Print the best hyperparameters\n",
    "print(\"Best Hyperparameters:\", grid_search.best_params_)\n",
    "\n",
    "# Make predictions using the best model\n",
    "best_rf_model = grid_search.best_estimator_\n",
    "\n",
    "y_pred = best_rf_model.predict(X_test)\n",
    "\n",
    "# Print the classification report\n",
    "report = classification_report(y_test, y_pred)\n",
    "print(\"Classification Report:\\n\", report)\n",
    "\n",
    "# Create a confusion matrix\n",
    "conf_matrix = confusion_matrix(y_test, y_pred)\n",
    "print(\"Confusion Matrix:\\n\", conf_matrix)"
   ]
  },
  {
   "cell_type": "code",
   "execution_count": 6,
   "metadata": {},
   "outputs": [
    {
     "name": "stdout",
     "output_type": "stream",
     "text": [
      "Best Hyperparameters: {'C': 0.01}\n",
      "Classification Report:\n",
      "               precision    recall  f1-score   support\n",
      "\n",
      "      Cutter       0.65      0.80      0.72        30\n",
      "    Defender       0.70      0.64      0.67        22\n",
      "     Handler       0.61      0.92      0.73        24\n",
      "      Hybrid       0.50      0.10      0.16        21\n",
      "\n",
      "    accuracy                           0.64        97\n",
      "   macro avg       0.61      0.61      0.57        97\n",
      "weighted avg       0.62      0.64      0.59        97\n",
      "\n",
      "Confusion Matrix:\n",
      " [[24  4  0  2]\n",
      " [ 5 14  3  0]\n",
      " [ 1  1 22  0]\n",
      " [ 7  1 11  2]]\n"
     ]
    }
   ],
   "source": [
    "X_train, X_test, y_train, y_test = train_test_split(X, y, test_size=0.2, random_state=42)\n",
    "\n",
    "param_grid={'C': [0.001, 0.01, 0.1, 1, 10, 100, 1000]},\n",
    "\n",
    "\n",
    "# Create a Logistic regression classifier\n",
    "lr_classifier = LogisticRegression(random_state=987, max_iter=1000)\n",
    "# Create the GridSearchCV object\n",
    "grid_search = GridSearchCV(estimator=lr_classifier, param_grid=param_grid, cv=5, scoring='f1_weighted')\n",
    "\n",
    "# Fit the grid search to the data\n",
    "grid_search.fit(X_train, y_train)\n",
    "\n",
    "# Print the best hyperparameters\n",
    "print(\"Best Hyperparameters:\", grid_search.best_params_)\n",
    "\n",
    "# Make predictions using the best model\n",
    "best_rf_model = grid_search.best_estimator_\n",
    "\n",
    "y_pred = best_rf_model.predict(X_test)\n",
    "\n",
    "# Print the classification report\n",
    "report = classification_report(y_test, y_pred)\n",
    "print(\"Classification Report:\\n\", report)\n",
    "\n",
    "# Create a confusion matrix\n",
    "conf_matrix = confusion_matrix(y_test, y_pred)\n",
    "print(\"Confusion Matrix:\\n\", conf_matrix)"
   ]
  },
  {
   "cell_type": "code",
   "execution_count": 7,
   "metadata": {},
   "outputs": [
    {
     "name": "stderr",
     "output_type": "stream",
     "text": [
      "C:\\Users\\jacob\\AppData\\Local\\Temp\\ipykernel_39228\\320254356.py:5: SettingWithCopyWarning: \n",
      "A value is trying to be set on a copy of a slice from a DataFrame\n",
      "\n",
      "See the caveats in the documentation: https://pandas.pydata.org/pandas-docs/stable/user_guide/indexing.html#returning-a-view-versus-a-copy\n",
      "  data.dropna(subset = 'goal assist ratio', inplace = True)\n",
      "C:\\Users\\jacob\\AppData\\Local\\Temp\\ipykernel_39228\\320254356.py:6: SettingWithCopyWarning: \n",
      "A value is trying to be set on a copy of a slice from a DataFrame\n",
      "\n",
      "See the caveats in the documentation: https://pandas.pydata.org/pandas-docs/stable/user_guide/indexing.html#returning-a-view-versus-a-copy\n",
      "  data.dropna(subset = 'completionPercentage', inplace = True)\n"
     ]
    }
   ],
   "source": [
    "df['position'] = np.where(df['position'].str.contains('Hybrid'), np.nan, df['position'])\n",
    "\n",
    "# get dataset for modeling\n",
    "data = df.dropna(subset = 'position')\n",
    "data.dropna(subset = 'goal assist ratio', inplace = True)\n",
    "data.dropna(subset = 'completionPercentage', inplace = True)"
   ]
  },
  {
   "cell_type": "code",
   "execution_count": 8,
   "metadata": {},
   "outputs": [
    {
     "name": "stdout",
     "output_type": "stream",
     "text": [
      "Best Hyperparameters: {'max_depth': None, 'min_samples_leaf': 1, 'min_samples_split': 2, 'n_estimators': 300}\n",
      "Classification Report:\n",
      "               precision    recall  f1-score   support\n",
      "\n",
      "      Cutter       0.92      0.79      0.85        29\n",
      "    Defender       0.82      0.74      0.78        19\n",
      "     Handler       0.78      0.94      0.85        31\n",
      "\n",
      "    accuracy                           0.84        79\n",
      "   macro avg       0.84      0.82      0.83        79\n",
      "weighted avg       0.84      0.84      0.83        79\n",
      "\n",
      "Confusion Matrix:\n",
      " [[23  2  4]\n",
      " [ 1 14  4]\n",
      " [ 1  1 29]]\n"
     ]
    }
   ],
   "source": [
    "scaler = StandardScaler()\n",
    "\n",
    "# Split the data into features and target\n",
    "X = data.drop(['Unnamed: 0','playerID', 'name', 'position', 'yardsTotal', 'yardsThrown', 'completionPercentage',\n",
    "              'yardsReceived', 'hucksCompleted', 'huckPercentage', 'oEfficiency', 'height', 'weight'], axis=1)\n",
    "X = scaler.fit_transform(X)\n",
    "\n",
    "y = data['position']\n",
    "\n",
    "# Split the data into train and test sets\n",
    "X_train, X_test, y_train, y_test = train_test_split(X, y, test_size=0.2, random_state=42)\n",
    "\n",
    "# Create a Random Forest classifier\n",
    "rf_classifier = RandomForestClassifier(random_state=987)\n",
    "\n",
    "# pipeline = make_pipeline(StandardScaler(), rf_classifier)\n",
    "\n",
    "# Define the hyperparameter grid\n",
    "param_grid = {\n",
    "    'n_estimators': [100, 200, 300],\n",
    "    'max_depth': [None, 10, 20, 30],\n",
    "    'min_samples_split': [2, 5, 10],\n",
    "    'min_samples_leaf': [1, 2, 4]\n",
    "}\n",
    "\n",
    "# Create the GridSearchCV object\n",
    "grid_search = GridSearchCV(estimator=rf_classifier, param_grid=param_grid, cv=5, scoring='f1_weighted')\n",
    "\n",
    "# Fit the grid search to the data\n",
    "grid_search.fit(X_train, y_train)\n",
    "\n",
    "# Print the best hyperparameters\n",
    "print(\"Best Hyperparameters:\", grid_search.best_params_)\n",
    "\n",
    "# Make predictions using the best model\n",
    "best_rf_model = grid_search.best_estimator_\n",
    "\n",
    "y_pred = best_rf_model.predict(X_test)\n",
    "\n",
    "# Print the classification report\n",
    "report = classification_report(y_test, y_pred)\n",
    "print(\"Classification Report:\\n\", report)\n",
    "\n",
    "# Create a confusion matrix\n",
    "conf_matrix = confusion_matrix(y_test, y_pred)\n",
    "print(\"Confusion Matrix:\\n\", conf_matrix)"
   ]
  },
  {
   "cell_type": "code",
   "execution_count": 9,
   "metadata": {},
   "outputs": [
    {
     "name": "stdout",
     "output_type": "stream",
     "text": [
      "Best Hyperparameters: {'C': 0.1}\n",
      "Classification Report:\n",
      "               precision    recall  f1-score   support\n",
      "\n",
      "      Cutter       0.88      0.79      0.84        29\n",
      "    Defender       0.72      0.68      0.70        19\n",
      "     Handler       0.80      0.90      0.85        31\n",
      "\n",
      "    accuracy                           0.81        79\n",
      "   macro avg       0.80      0.79      0.80        79\n",
      "weighted avg       0.81      0.81      0.81        79\n",
      "\n",
      "Confusion Matrix:\n",
      " [[23  3  3]\n",
      " [ 2 13  4]\n",
      " [ 1  2 28]]\n"
     ]
    }
   ],
   "source": [
    "X_train, X_test, y_train, y_test = train_test_split(X, y, test_size=0.2, random_state=42)\n",
    "\n",
    "param_grid={'C': [0.001, 0.01, 0.1, 1, 10, 100, 1000]},\n",
    "\n",
    "\n",
    "# Create a Logistic regression classifier\n",
    "lr_classifier = LogisticRegression(random_state=987, max_iter=1000)\n",
    "# Create the GridSearchCV object\n",
    "grid_search = GridSearchCV(estimator=lr_classifier, param_grid=param_grid, cv=5, scoring='f1_weighted')\n",
    "\n",
    "# Fit the grid search to the data\n",
    "grid_search.fit(X_train, y_train)\n",
    "\n",
    "# Print the best hyperparameters\n",
    "print(\"Best Hyperparameters:\", grid_search.best_params_)\n",
    "\n",
    "# Make predictions using the best model\n",
    "best_rf_model = grid_search.best_estimator_\n",
    "\n",
    "y_pred = best_rf_model.predict(X_test)\n",
    "\n",
    "# Print the classification report\n",
    "report = classification_report(y_test, y_pred)\n",
    "print(\"Classification Report:\\n\", report)\n",
    "\n",
    "# Create a confusion matrix\n",
    "conf_matrix = confusion_matrix(y_test, y_pred)\n",
    "print(\"Confusion Matrix:\\n\", conf_matrix)"
   ]
  },
  {
   "cell_type": "code",
   "execution_count": 10,
   "metadata": {},
   "outputs": [
    {
     "name": "stdout",
     "output_type": "stream",
     "text": [
      "Final Classification Report for random forest classifier:\n",
      "               precision    recall  f1-score   support\n",
      "\n",
      "      Cutter       0.85      0.74      0.79       144\n",
      "    Defender       0.71      0.69      0.70       107\n",
      "     Handler       0.82      0.94      0.87       144\n",
      "\n",
      "    accuracy                           0.80       395\n",
      "   macro avg       0.79      0.79      0.79       395\n",
      "weighted avg       0.80      0.80      0.80       395\n",
      "\n",
      "Overall Accuracy: 80.00%\n",
      "--------------------------------------------------\n"
     ]
    },
    {
     "data": {
      "image/png": "[encoded data removed]",
      "text/plain": [
       "<Figure size 800x600 with 2 Axes>"
      ]
     },
     "metadata": {},
     "output_type": "display_data"
    }
   ],
   "source": [
    "loo = LeaveOneOut()\n",
    "\n",
    "# Initialize variables to store aggregated metrics\n",
    "all_y_true = []\n",
    "all_y_pred = []\n",
    "\n",
    "for train_index, test_index in loo.split(X):\n",
    "    X_train, X_test = X[train_index], X[test_index]\n",
    "    y_train, y_test = y.iloc[train_index], y.iloc[test_index]\n",
    "\n",
    "    # Create a logistic regression model\n",
    "    model = RandomForestClassifier(max_depth= None, min_samples_leaf= 2, min_samples_split= 5, n_estimators= 100)\n",
    "\n",
    "    # Fit the model\n",
    "    model.fit(X_train, y_train)\n",
    "\n",
    "    # Predict on the test set\n",
    "    y_pred = model.predict(X_test)\n",
    "\n",
    "    # Store true and predicted values\n",
    "    all_y_true.extend(y_test)\n",
    "    all_y_pred.extend(y_pred)\n",
    "\n",
    "\n",
    "# Aggregate metrics\n",
    "final_report = classification_report(all_y_true, all_y_pred)\n",
    "final_accuracy = accuracy_score(all_y_true, all_y_pred)\n",
    "print(f\"Final Classification Report for random forest classifier:\\n\", final_report)\n",
    "print(f\"Overall Accuracy: {final_accuracy * 100:.2f}%\")\n",
    "print(\"-\" * 50)\n",
    "\n",
    "# Create a confusion matrix heatmap\n",
    "final_conf_matrix = confusion_matrix(all_y_true, all_y_pred, labels=np.unique(all_y_true))\n",
    "plt.figure(figsize=(8, 6))\n",
    "sns.heatmap(final_conf_matrix, annot=True, fmt=\"d\", cmap=\"Blues\", xticklabels=np.unique(all_y_true),\n",
    "            yticklabels=np.unique(all_y_true))\n",
    "plt.title(\"Leave-One-Out Cross Validated Confusion Matrix for Positional Classifier\")\n",
    "plt.xlabel(\"Predicted\")\n",
    "plt.ylabel(\"True\")\n",
    "plt.show()\n"
   ]
  },
  {
   "cell_type": "code",
   "execution_count": 12,
   "metadata": {},
   "outputs": [
    {
     "data": {
      "image/png": "[encoded data removed]",
      "text/plain": [
       "<Figure size 640x480 with 1 Axes>"
      ]
     },
     "metadata": {},
     "output_type": "display_data"
    }
   ],
   "source": [
    "\n",
    "# Split the data into features and target\n",
    "X = data.drop(['Unnamed: 0', 'playerID', 'name', 'position', 'yardsTotal', 'yardsThrown', 'completionPercentage',\n",
    "              'yardsReceived', 'hucksCompleted', 'huckPercentage', 'oEfficiency', 'height', 'weight'], axis=1)\n",
    "X = scaler.fit_transform(X)\n",
    "\n",
    "y = data['position']\n",
    "# Create a logistic regression model\n",
    "model = RandomForestClassifier(max_depth= None, min_samples_leaf= 2, min_samples_split= 5, n_estimators= 100)\n",
    "\n",
    "# Fit the model\n",
    "model.fit(X, y)\n",
    "\n",
    "df.dropna(subset = 'goal assist ratio', inplace = True)\n",
    "df.dropna(subset = 'completionPercentage', inplace = True)\n",
    "# Split the data into features and target\n",
    "X = df.drop(['Unnamed: 0','playerID', 'name', 'position', 'yardsTotal', 'yardsThrown', 'completionPercentage',\n",
    "              'yardsReceived', 'hucksCompleted', 'huckPercentage', 'oEfficiency', 'height', 'weight'], axis=1)\n",
    "\n",
    "Xarr = scaler.transform(X)\n",
    "\n",
    "all_pred = model.predict(Xarr)\n",
    "\n",
    "df['predicted_position'] = all_pred\n",
    "\n",
    "category_counts = df['predicted_position'].value_counts()\n",
    "\n",
    "# Create a figure and axis\n",
    "fig, ax = plt.subplots()\n",
    "\n",
    "# Plot the bar chart\n",
    "category_counts.plot(kind='bar', ax=ax)\n",
    "\n",
    "# Set labels and title\n",
    "ax.set_xlabel('Predicted Position')\n",
    "ax.set_ylabel('Count')\n",
    "ax.set_title('Count of Predicted Positions')\n",
    "\n",
    "# Show the plot\n",
    "plt.show()"
   ]
  },
  {
   "cell_type": "code",
   "execution_count": 13,
   "metadata": {},
   "outputs": [
    {
     "data": {
      "text/plain": [
       "Handler     680\n",
       "Cutter      541\n",
       "Defender    264\n",
       "Name: predicted_position, dtype: int64"
      ]
     },
     "execution_count": 13,
     "metadata": {},
     "output_type": "execute_result"
    }
   ],
   "source": [
    "df['predicted_position'].value_counts()"
   ]
  },
  {
   "cell_type": "code",
   "execution_count": 19,
   "metadata": {},
   "outputs": [
    {
     "data": {
      "text/plain": [
       "Index(['Unnamed: 0', 'playerID', 'name', 'gamesPlayed', 'scores', 'assists',\n",
       "       'goals', 'plusMinus', 'completions', 'completionPercentage',\n",
       "       'hockeyAssists', 'throwaways', 'stalls', 'drops', 'blocks', 'callahans',\n",
       "       'pulls', 'yardsTotal', 'yardsThrown', 'yardsReceived', 'hucksCompleted',\n",
       "       'huckPercentage', 'minutesPlayed', 'possessions', 'oEfficiency',\n",
       "       'pointsPlayed', 'oPointsPlayed', 'dPointsPlayed', 'height', 'weight',\n",
       "       'position', 'total minutes', 'offense percentage', 'goal assist ratio',\n",
       "       'completions per minute', 'predicted_position'],\n",
       "      dtype='object')"
      ]
     },
     "execution_count": 19,
     "metadata": {},
     "output_type": "execute_result"
    }
   ],
   "source": [
    "df.columns"
   ]
  },
  {
   "cell_type": "code",
   "execution_count": 20,
   "metadata": {},
   "outputs": [],
   "source": [
    "df.to_csv('career_stats_with_predicted_positions_aug_24.csv')"
   ]
  },
  {
   "cell_type": "code",
   "execution_count": 16,
   "metadata": {},
   "outputs": [
    {
     "name": "stderr",
     "output_type": "stream",
     "text": [
      "C:\\Users\\jacob\\AppData\\Local\\Temp\\ipykernel_39228\\2544622434.py:5: UserWarning: Matplotlib is currently using module://matplotlib_inline.backend_inline, which is a non-GUI backend, so cannot show the figure.\n",
      "  fig.show()\n"
     ]
    },
    {
     "data": {
      "image/png": "[encoded data removed]",
      "text/plain": [
       "<Figure size 800x300 with 1 Axes>"
      ]
     },
     "metadata": {},
     "output_type": "display_data"
    }
   ],
   "source": [
    "forest_importances = pd.Series(model.feature_importances_, index = X.columns)\n",
    "\n",
    "fig, ax = plt.subplots()\n",
    "forest_importances.plot.bar(ax=ax, figsize = (8,3))\n",
    "fig.show()"
   ]
  },
  {
   "cell_type": "code",
   "execution_count": 18,
   "metadata": {},
   "outputs": [
    {
     "data": {
      "application/vnd.plotly.v1+json": {
       "config": {
        "plotlyServerURL": "https://plot.ly"
       },
       "data": [
        {
         "fill": "toself",
         "name": "Cutter",
         "r": [
          2.136851680858999,
          5,
          2.2534836575983985,
          5,
          5,
          5,
          5,
          1
         ],
         "subplot": "polar",
         "theta": [
          "completions per minute",
          "goal assist ratio",
          "completions",
          "goals",
          "offense percentage",
          "plusMinus",
          "oPointsPlayed",
          "dPointsPlayed"
         ],
         "type": "scatterpolar"
        },
        {
         "fill": "toself",
         "name": "Defender",
         "r": [
          1.0000000000000002,
          4.608653583001569,
          1,
          2.162666529564224,
          1,
          3.6714154348573316,
          1,
          5
         ],
         "subplot": "polar2",
         "theta": [
          "completions per minute",
          "goal assist ratio",
          "completions",
          "goals",
          "offense percentage",
          "plusMinus",
          "oPointsPlayed",
          "dPointsPlayed"
         ],
         "type": "scatterpolar"
        },
        {
         "fill": "toself",
         "name": "Handler",
         "r": [
          5,
          1,
          5,
          1,
          4.239598783158734,
          1,
          4.306771175704949,
          1.6986778174581718
         ],
         "subplot": "polar3",
         "theta": [
          "completions per minute",
          "goal assist ratio",
          "completions",
          "goals",
          "offense percentage",
          "plusMinus",
          "oPointsPlayed",
          "dPointsPlayed"
         ],
         "type": "scatterpolar"
        }
       ],
       "layout": {
        "annotations": [
         {
          "font": {
           "size": 16
          },
          "showarrow": false,
          "text": "Cutter",
          "x": 0.09999999999999999,
          "xanchor": "center",
          "xref": "paper",
          "y": 1,
          "yanchor": "bottom",
          "yref": "paper"
         },
         {
          "font": {
           "size": 16
          },
          "showarrow": false,
          "text": "Defender",
          "x": 0.5,
          "xanchor": "center",
          "xref": "paper",
          "y": 1,
          "yanchor": "bottom",
          "yref": "paper"
         },
         {
          "font": {
           "size": 16
          },
          "showarrow": false,
          "text": "Handler",
          "x": 0.9,
          "xanchor": "center",
          "xref": "paper",
          "y": 1,
          "yanchor": "bottom",
          "yref": "paper"
         }
        ],
        "margin": {
         "l": 100,
         "r": 100,
         "t": 50
        },
        "polar": {
         "angularaxis": {
          "rotation": 22.5,
          "tickfont": {
           "size": 10
          }
         },
         "domain": {
          "x": [
           0,
           0.19999999999999998
          ],
          "y": [
           0,
           1
          ]
         },
         "radialaxis": {
          "tickfont": {
           "size": 10
          },
          "visible": true
         }
        },
        "polar2": {
         "angularaxis": {
          "rotation": 22.5,
          "tickfont": {
           "size": 10
          }
         },
         "domain": {
          "x": [
           0.4,
           0.6
          ],
          "y": [
           0,
           1
          ]
         },
         "radialaxis": {
          "tickfont": {
           "size": 10
          },
          "visible": true
         }
        },
        "polar3": {
         "angularaxis": {
          "rotation": 22.5,
          "tickfont": {
           "size": 10
          }
         },
         "domain": {
          "x": [
           0.8,
           1
          ],
          "y": [
           0,
           1
          ]
         },
         "radialaxis": {
          "tickfont": {
           "size": 10
          },
          "visible": true
         }
        },
        "showlegend": false,
        "template": {
         "data": {
          "bar": [
           {
            "error_x": {
             "color": "#2a3f5f"
            },
            "error_y": {
             "color": "#2a3f5f"
            },
            "marker": {
             "line": {
              "color": "#E5ECF6",
              "width": 0.5
             },
             "pattern": {
              "fillmode": "overlay",
              "size": 10,
              "solidity": 0.2
             }
            },
            "type": "bar"
           }
          ],
          "barpolar": [
           {
            "marker": {
             "line": {
              "color": "#E5ECF6",
              "width": 0.5
             },
             "pattern": {
              "fillmode": "overlay",
              "size": 10,
              "solidity": 0.2
             }
            },
            "type": "barpolar"
           }
          ],
          "carpet": [
           {
            "aaxis": {
             "endlinecolor": "#2a3f5f",
             "gridcolor": "white",
             "linecolor": "white",
             "minorgridcolor": "white",
             "startlinecolor": "#2a3f5f"
            },
            "baxis": {
             "endlinecolor": "#2a3f5f",
             "gridcolor": "white",
             "linecolor": "white",
             "minorgridcolor": "white",
             "startlinecolor": "#2a3f5f"
            },
            "type": "carpet"
           }
          ],
          "choropleth": [
           {
            "colorbar": {
             "outlinewidth": 0,
             "ticks": ""
            },
            "type": "choropleth"
           }
          ],
          "contour": [
           {
            "colorbar": {
             "outlinewidth": 0,
             "ticks": ""
            },
            "colorscale": [
             [
              0,
              "#0d0887"
             ],
             [
              0.1111111111111111,
              "#46039f"
             ],
             [
              0.2222222222222222,
              "#7201a8"
             ],
             [
              0.3333333333333333,
              "#9c179e"
             ],
             [
              0.4444444444444444,
              "#bd3786"
             ],
             [
              0.5555555555555556,
              "#d8576b"
             ],
             [
              0.6666666666666666,
              "#ed7953"
             ],
             [
              0.7777777777777778,
              "#fb9f3a"
             ],
             [
              0.8888888888888888,
              "#fdca26"
             ],
             [
              1,
              "#f0f921"
             ]
            ],
            "type": "contour"
           }
          ],
          "contourcarpet": [
           {
            "colorbar": {
             "outlinewidth": 0,
             "ticks": ""
            },
            "type": "contourcarpet"
           }
          ],
          "heatmap": [
           {
            "colorbar": {
             "outlinewidth": 0,
             "ticks": ""
            },
            "colorscale": [
             [
              0,
              "#0d0887"
             ],
             [
              0.1111111111111111,
              "#46039f"
             ],
             [
              0.2222222222222222,
              "#7201a8"
             ],
             [
              0.3333333333333333,
              "#9c179e"
             ],
             [
              0.4444444444444444,
              "#bd3786"
             ],
             [
              0.5555555555555556,
              "#d8576b"
             ],
             [
              0.6666666666666666,
              "#ed7953"
             ],
             [
              0.7777777777777778,
              "#fb9f3a"
             ],
             [
              0.8888888888888888,
              "#fdca26"
             ],
             [
              1,
              "#f0f921"
             ]
            ],
            "type": "heatmap"
           }
          ],
          "heatmapgl": [
           {
            "colorbar": {
             "outlinewidth": 0,
             "ticks": ""
            },
            "colorscale": [
             [
              0,
              "#0d0887"
             ],
             [
              0.1111111111111111,
              "#46039f"
             ],
             [
              0.2222222222222222,
              "#7201a8"
             ],
             [
              0.3333333333333333,
              "#9c179e"
             ],
             [
              0.4444444444444444,
              "#bd3786"
             ],
             [
              0.5555555555555556,
              "#d8576b"
             ],
             [
              0.6666666666666666,
              "#ed7953"
             ],
             [
              0.7777777777777778,
              "#fb9f3a"
             ],
             [
              0.8888888888888888,
              "#fdca26"
             ],
             [
              1,
              "#f0f921"
             ]
            ],
            "type": "heatmapgl"
           }
          ],
          "histogram": [
           {
            "marker": {
             "pattern": {
              "fillmode": "overlay",
              "size": 10,
              "solidity": 0.2
             }
            },
            "type": "histogram"
           }
          ],
          "histogram2d": [
           {
            "colorbar": {
             "outlinewidth": 0,
             "ticks": ""
            },
            "colorscale": [
             [
              0,
              "#0d0887"
             ],
             [
              0.1111111111111111,
              "#46039f"
             ],
             [
              0.2222222222222222,
              "#7201a8"
             ],
             [
              0.3333333333333333,
              "#9c179e"
             ],
             [
              0.4444444444444444,
              "#bd3786"
             ],
             [
              0.5555555555555556,
              "#d8576b"
             ],
             [
              0.6666666666666666,
              "#ed7953"
             ],
             [
              0.7777777777777778,
              "#fb9f3a"
             ],
             [
              0.8888888888888888,
              "#fdca26"
             ],
             [
              1,
              "#f0f921"
             ]
            ],
            "type": "histogram2d"
           }
          ],
          "histogram2dcontour": [
           {
            "colorbar": {
             "outlinewidth": 0,
             "ticks": ""
            },
            "colorscale": [
             [
              0,
              "#0d0887"
             ],
             [
              0.1111111111111111,
              "#46039f"
             ],
             [
              0.2222222222222222,
              "#7201a8"
             ],
             [
              0.3333333333333333,
              "#9c179e"
             ],
             [
              0.4444444444444444,
              "#bd3786"
             ],
             [
              0.5555555555555556,
              "#d8576b"
             ],
             [
              0.6666666666666666,
              "#ed7953"
             ],
             [
              0.7777777777777778,
              "#fb9f3a"
             ],
             [
              0.8888888888888888,
              "#fdca26"
             ],
             [
              1,
              "#f0f921"
             ]
            ],
            "type": "histogram2dcontour"
           }
          ],
          "mesh3d": [
           {
            "colorbar": {
             "outlinewidth": 0,
             "ticks": ""
            },
            "type": "mesh3d"
           }
          ],
          "parcoords": [
           {
            "line": {
             "colorbar": {
              "outlinewidth": 0,
              "ticks": ""
             }
            },
            "type": "parcoords"
           }
          ],
          "pie": [
           {
            "automargin": true,
            "type": "pie"
           }
          ],
          "scatter": [
           {
            "fillpattern": {
             "fillmode": "overlay",
             "size": 10,
             "solidity": 0.2
            },
            "type": "scatter"
           }
          ],
          "scatter3d": [
           {
            "line": {
             "colorbar": {
              "outlinewidth": 0,
              "ticks": ""
             }
            },
            "marker": {
             "colorbar": {
              "outlinewidth": 0,
              "ticks": ""
             }
            },
            "type": "scatter3d"
           }
          ],
          "scattercarpet": [
           {
            "marker": {
             "colorbar": {
              "outlinewidth": 0,
              "ticks": ""
             }
            },
            "type": "scattercarpet"
           }
          ],
          "scattergeo": [
           {
            "marker": {
             "colorbar": {
              "outlinewidth": 0,
              "ticks": ""
             }
            },
            "type": "scattergeo"
           }
          ],
          "scattergl": [
           {
            "marker": {
             "colorbar": {
              "outlinewidth": 0,
              "ticks": ""
             }
            },
            "type": "scattergl"
           }
          ],
          "scattermapbox": [
           {
            "marker": {
             "colorbar": {
              "outlinewidth": 0,
              "ticks": ""
             }
            },
            "type": "scattermapbox"
           }
          ],
          "scatterpolar": [
           {
            "marker": {
             "colorbar": {
              "outlinewidth": 0,
              "ticks": ""
             }
            },
            "type": "scatterpolar"
           }
          ],
          "scatterpolargl": [
           {
            "marker": {
             "colorbar": {
              "outlinewidth": 0,
              "ticks": ""
             }
            },
            "type": "scatterpolargl"
           }
          ],
          "scatterternary": [
           {
            "marker": {
             "colorbar": {
              "outlinewidth": 0,
              "ticks": ""
             }
            },
            "type": "scatterternary"
           }
          ],
          "surface": [
           {
            "colorbar": {
             "outlinewidth": 0,
             "ticks": ""
            },
            "colorscale": [
             [
              0,
              "#0d0887"
             ],
             [
              0.1111111111111111,
              "#46039f"
             ],
             [
              0.2222222222222222,
              "#7201a8"
             ],
             [
              0.3333333333333333,
              "#9c179e"
             ],
             [
              0.4444444444444444,
              "#bd3786"
             ],
             [
              0.5555555555555556,
              "#d8576b"
             ],
             [
              0.6666666666666666,
              "#ed7953"
             ],
             [
              0.7777777777777778,
              "#fb9f3a"
             ],
             [
              0.8888888888888888,
              "#fdca26"
             ],
             [
              1,
              "#f0f921"
             ]
            ],
            "type": "surface"
           }
          ],
          "table": [
           {
            "cells": {
             "fill": {
              "color": "#EBF0F8"
             },
             "line": {
              "color": "white"
             }
            },
            "header": {
             "fill": {
              "color": "#C8D4E3"
             },
             "line": {
              "color": "white"
             }
            },
            "type": "table"
           }
          ]
         },
         "layout": {
          "annotationdefaults": {
           "arrowcolor": "#2a3f5f",
           "arrowhead": 0,
           "arrowwidth": 1
          },
          "autotypenumbers": "strict",
          "coloraxis": {
           "colorbar": {
            "outlinewidth": 0,
            "ticks": ""
           }
          },
          "colorscale": {
           "diverging": [
            [
             0,
             "#8e0152"
            ],
            [
             0.1,
             "#c51b7d"
            ],
            [
             0.2,
             "#de77ae"
            ],
            [
             0.3,
             "#f1b6da"
            ],
            [
             0.4,
             "#fde0ef"
            ],
            [
             0.5,
             "#f7f7f7"
            ],
            [
             0.6,
             "#e6f5d0"
            ],
            [
             0.7,
             "#b8e186"
            ],
            [
             0.8,
             "#7fbc41"
            ],
            [
             0.9,
             "#4d9221"
            ],
            [
             1,
             "#276419"
            ]
           ],
           "sequential": [
            [
             0,
             "#0d0887"
            ],
            [
             0.1111111111111111,
             "#46039f"
            ],
            [
             0.2222222222222222,
             "#7201a8"
            ],
            [
             0.3333333333333333,
             "#9c179e"
            ],
            [
             0.4444444444444444,
             "#bd3786"
            ],
            [
             0.5555555555555556,
             "#d8576b"
            ],
            [
             0.6666666666666666,
             "#ed7953"
            ],
            [
             0.7777777777777778,
             "#fb9f3a"
            ],
            [
             0.8888888888888888,
             "#fdca26"
            ],
            [
             1,
             "#f0f921"
            ]
           ],
           "sequentialminus": [
            [
             0,
             "#0d0887"
            ],
            [
             0.1111111111111111,
             "#46039f"
            ],
            [
             0.2222222222222222,
             "#7201a8"
            ],
            [
             0.3333333333333333,
             "#9c179e"
            ],
            [
             0.4444444444444444,
             "#bd3786"
            ],
            [
             0.5555555555555556,
             "#d8576b"
            ],
            [
             0.6666666666666666,
             "#ed7953"
            ],
            [
             0.7777777777777778,
             "#fb9f3a"
            ],
            [
             0.8888888888888888,
             "#fdca26"
            ],
            [
             1,
             "#f0f921"
            ]
           ]
          },
          "colorway": [
           "#636efa",
           "#EF553B",
           "#00cc96",
           "#ab63fa",
           "#FFA15A",
           "#19d3f3",
           "#FF6692",
           "#B6E880",
           "#FF97FF",
           "#FECB52"
          ],
          "font": {
           "color": "#2a3f5f"
          },
          "geo": {
           "bgcolor": "white",
           "lakecolor": "white",
           "landcolor": "#E5ECF6",
           "showlakes": true,
           "showland": true,
           "subunitcolor": "white"
          },
          "hoverlabel": {
           "align": "left"
          },
          "hovermode": "closest",
          "mapbox": {
           "style": "light"
          },
          "paper_bgcolor": "white",
          "plot_bgcolor": "#E5ECF6",
          "polar": {
           "angularaxis": {
            "gridcolor": "white",
            "linecolor": "white",
            "ticks": ""
           },
           "bgcolor": "#E5ECF6",
           "radialaxis": {
            "gridcolor": "white",
            "linecolor": "white",
            "ticks": ""
           }
          },
          "scene": {
           "xaxis": {
            "backgroundcolor": "#E5ECF6",
            "gridcolor": "white",
            "gridwidth": 2,
            "linecolor": "white",
            "showbackground": true,
            "ticks": "",
            "zerolinecolor": "white"
           },
           "yaxis": {
            "backgroundcolor": "#E5ECF6",
            "gridcolor": "white",
            "gridwidth": 2,
            "linecolor": "white",
            "showbackground": true,
            "ticks": "",
            "zerolinecolor": "white"
           },
           "zaxis": {
            "backgroundcolor": "#E5ECF6",
            "gridcolor": "white",
            "gridwidth": 2,
            "linecolor": "white",
            "showbackground": true,
            "ticks": "",
            "zerolinecolor": "white"
           }
          },
          "shapedefaults": {
           "line": {
            "color": "#2a3f5f"
           }
          },
          "ternary": {
           "aaxis": {
            "gridcolor": "white",
            "linecolor": "white",
            "ticks": ""
           },
           "baxis": {
            "gridcolor": "white",
            "linecolor": "white",
            "ticks": ""
           },
           "bgcolor": "#E5ECF6",
           "caxis": {
            "gridcolor": "white",
            "linecolor": "white",
            "ticks": ""
           }
          },
          "title": {
           "x": 0.05
          },
          "xaxis": {
           "automargin": true,
           "gridcolor": "white",
           "linecolor": "white",
           "ticks": "",
           "title": {
            "standoff": 15
           },
           "zerolinecolor": "white",
           "zerolinewidth": 2
          },
          "yaxis": {
           "automargin": true,
           "gridcolor": "white",
           "linecolor": "white",
           "ticks": "",
           "title": {
            "standoff": 15
           },
           "zerolinecolor": "white",
           "zerolinewidth": 2
          }
         }
        },
        "title": {
         "font": {
          "color": "black",
          "family": "Arial",
          "size": 36
         },
         "text": "<b>Radial Charts of Position Characteristics<b>",
         "x": 0.5
        }
       }
      }
     },
     "metadata": {},
     "output_type": "display_data"
    }
   ],
   "source": [
    "importance_df = pd.DataFrame(forest_importances, columns = ['importance']).reset_index()\n",
    "importance_df.rename(columns={'index':'feature'}, inplace=True)\n",
    "importance_df.sort_values('importance', ascending=False, inplace=True)\n",
    "top_8_features = list(importance_df['feature'].head(8))\n",
    "pos_df = df.groupby('predicted_position')[top_8_features].mean()\n",
    "\n",
    "\n",
    "scaler = StandardScaler()\n",
    "df_standardized = pd.DataFrame(scaler.fit_transform(pos_df), columns=pos_df.columns, index=pos_df.index)\n",
    "\n",
    "# Scale the values between 0 and 5 using MinMaxScaler\n",
    "min_max_scaler = MinMaxScaler(feature_range=(1, 5))\n",
    "df_scaled = pd.DataFrame(min_max_scaler.fit_transform(df_standardized), columns=df_standardized.columns, index=df_standardized.index)\n",
    "\n",
    "df_scaled\n",
    "\n",
    "df_transposed = df_scaled.T\n",
    "\n",
    "# Create separate dataframes for each row\n",
    "cutter_df = df_transposed['Cutter'].reset_index()\n",
    "defender_df = df_transposed['Defender'].reset_index()\n",
    "handler_df = df_transposed['Handler'].reset_index()\n",
    "\n",
    "# Rename the columns\n",
    "cutter_df.columns = ['Attribute', 'Cutter']\n",
    "defender_df.columns = ['Attribute', 'Defender']\n",
    "handler_df.columns = ['Attribute', 'Handler']\n",
    "\n",
    "\n",
    "\n",
    "\n",
    "# Create subplots for each position\n",
    "fig = make_subplots(rows=1, cols=3, specs=[[{'type': 'polar'},{'type': 'polar'},{'type': 'polar'}]], \n",
    "                    subplot_titles=['Cutter', 'Defender', 'Handler'], horizontal_spacing=0.2)\n",
    "\n",
    "fig.add_trace(\n",
    "    go.Scatterpolar(r=cutter_df['Cutter'], theta=cutter_df['Attribute'], fill='toself', name='Cutter'),\n",
    "    row=1, col=1\n",
    ")\n",
    "\n",
    "fig.add_trace(\n",
    "    go.Scatterpolar(r=defender_df['Defender'], theta=defender_df['Attribute'], fill='toself', name='Defender'),\n",
    "    row=1, col=2\n",
    ")\n",
    "\n",
    "fig.add_trace(\n",
    "    go.Scatterpolar(r=handler_df['Handler'], theta=handler_df['Attribute'], fill='toself', name='Handler'),\n",
    "    row=1, col=3\n",
    ")\n",
    "\n",
    "# Update layout\n",
    "fig.update_layout(\n",
    "    polar=dict(radialaxis=dict(visible=True, tickfont=dict(size=10)),\n",
    "        angularaxis=dict(tickfont=dict(size=10), rotation = 22.5)),\n",
    "    polar2=dict(radialaxis=dict(visible=True, tickfont=dict(size=10)),\n",
    "        angularaxis=dict(tickfont=dict(size=10), rotation = 22.5)),\n",
    "    polar3=dict(radialaxis=dict(visible=True, tickfont=dict(size=10)),\n",
    "        angularaxis=dict(tickfont=dict(size=10), rotation = 22.5)),\n",
    "    showlegend=False,\n",
    "    margin=dict(l=100, r =100, t = 50),\n",
    "    # Customize subplot titles font size\n",
    "    title_font=dict(size=18, family='Arial', color='black'),\n",
    "    title=dict(text='<b>Radial Charts of Position Characteristics<b>', font=dict(size=36, family='Arial', color='black'), x=0.5)\n",
    ")\n",
    "\n",
    "# Show the plot\n",
    "fig.show()"
   ]
  }
 ],
 "metadata": {
  "kernelspec": {
   "display_name": "Python 3",
   "language": "python",
   "name": "python3"
  },
  "language_info": {
   "codemirror_mode": {
    "name": "ipython",
    "version": 3
   },
   "file_extension": ".py",
   "mimetype": "text/x-python",
   "name": "python",
   "nbconvert_exporter": "python",
   "pygments_lexer": "ipython3",
   "version": "3.9.17"
  }
 },
 "nbformat": 4,
 "nbformat_minor": 2
}
